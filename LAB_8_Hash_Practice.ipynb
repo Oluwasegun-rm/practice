{
  "nbformat": 4,
  "nbformat_minor": 0,
  "metadata": {
    "colab": {
      "provenance": [],
      "authorship_tag": "ABX9TyMRPz3MlmuX57W7MtnRlzI+",
      "include_colab_link": true
    },
    "kernelspec": {
      "name": "python3",
      "display_name": "Python 3"
    },
    "language_info": {
      "name": "python"
    }
  },
  "cells": [
    {
      "cell_type": "markdown",
      "metadata": {
        "id": "view-in-github",
        "colab_type": "text"
      },
      "source": [
        "<a href=\"https://colab.research.google.com/github/Oluwasegun-rm/practice/blob/main4/LAB_8_Hash_Practice.ipynb\" target=\"_parent\"><img src=\"https://colab.research.google.com/assets/colab-badge.svg\" alt=\"Open In Colab\"/></a>"
      ]
    },
    {
      "cell_type": "code",
      "execution_count": null,
      "metadata": {
        "colab": {
          "base_uri": "https://localhost:8080/"
        },
        "id": "slMo4qDX9yhQ",
        "outputId": "40567aed-b747-42f2-974c-d578b1f0714e"
      },
      "outputs": [
        {
          "output_type": "stream",
          "name": "stdout",
          "text": [
            "key: apple => Hash Value: 0\n",
            "key: banana => Hash Value: 1\n",
            "key: orange => Hash Value: 1\n",
            "key: grape => Hash Value: 0\n"
          ]
        }
      ],
      "source": [
        "def simple_hash(key, table_size):\n",
        "  return len(key) % table_size\n",
        "\n",
        "keys = [\"apple\", \"banana\", \"orange\", \"grape\"]\n",
        "table_size = 5\n",
        "\n",
        "for key in keys:\n",
        "  hash_value = simple_hash(key, table_size)\n",
        "  print(f\"key: {key} => Hash Value: {hash_value}\")"
      ]
    },
    {
      "cell_type": "code",
      "source": [
        "def basic_hash(str_k, table_size = 14):\n",
        "  return len(str_k) % table_size\n",
        "\n",
        "basic_hash(\"Oluwasegun\")"
      ],
      "metadata": {
        "colab": {
          "base_uri": "https://localhost:8080/"
        },
        "id": "Nf8qd7e_96An",
        "outputId": "95606d59-2c60-438d-c52f-77602e54a499"
      },
      "execution_count": null,
      "outputs": [
        {
          "output_type": "execute_result",
          "data": {
            "text/plain": [
              "10"
            ]
          },
          "metadata": {},
          "execution_count": 3
        }
      ]
    },
    {
      "cell_type": "code",
      "source": [
        "def bigger(inp):\n",
        "  lst = set()\n",
        "  for strr in inp:\n",
        "    if strr in lst:\n",
        "      return True\n",
        "    lst.add(strr)\n",
        "  return False\n",
        "\n",
        "inp = [\"apple\", \"banana\", \"cherry\", \"apple\"]\n",
        "bigger(inp)"
      ],
      "metadata": {
        "colab": {
          "base_uri": "https://localhost:8080/"
        },
        "id": "qWdBtZ_NEaGk",
        "outputId": "9d61500c-3757-440d-80f1-ad8b1497d246"
      },
      "execution_count": null,
      "outputs": [
        {
          "output_type": "execute_result",
          "data": {
            "text/plain": [
              "True"
            ]
          },
          "metadata": {},
          "execution_count": 15
        }
      ]
    },
    {
      "cell_type": "code",
      "source": [
        "class TreeNode():\n",
        "  def __init__(self, value):\n",
        "    self.value = value\n",
        "    self.left = None\n",
        "    self.right = None\n",
        "\n",
        "\n",
        "\n",
        "\n",
        "def bigger(root):\n",
        "  def add_left(root, l = 0):\n",
        "    if l != 25:\n",
        "      root.left = TreeNode(2)\n",
        "      add_left(root.left, l+1)\n",
        "    return root\n",
        "  def add_right(root, r = 0):\n",
        "    if r != 50:\n",
        "      root.right = TreeNode(3)\n",
        "      print(root.value)\n",
        "      add_right(root.right, r+1)\n",
        "    return root\n",
        "  add_left(root)\n",
        "  add_right(root)\n",
        "\n",
        "\n",
        "root = TreeNode(2)\n",
        "bigger(root)\n",
        "print(root.left.value)\n",
        "print(root.right.right.value)\n"
      ],
      "metadata": {
        "colab": {
          "base_uri": "https://localhost:8080/"
        },
        "id": "5FsrGxJIHAAo",
        "outputId": "2aa2286a-2efe-49fe-973f-2fc534937945"
      },
      "execution_count": null,
      "outputs": [
        {
          "output_type": "stream",
          "name": "stdout",
          "text": [
            "2\n",
            "3\n",
            "3\n",
            "3\n",
            "3\n",
            "3\n",
            "3\n",
            "3\n",
            "3\n",
            "3\n",
            "3\n",
            "3\n",
            "3\n",
            "3\n",
            "3\n",
            "3\n",
            "3\n",
            "3\n",
            "3\n",
            "3\n",
            "3\n",
            "3\n",
            "3\n",
            "3\n",
            "3\n",
            "3\n",
            "3\n",
            "3\n",
            "3\n",
            "3\n",
            "3\n",
            "3\n",
            "3\n",
            "3\n",
            "3\n",
            "3\n",
            "3\n",
            "3\n",
            "3\n",
            "3\n",
            "3\n",
            "3\n",
            "3\n",
            "3\n",
            "3\n",
            "3\n",
            "3\n",
            "3\n",
            "3\n",
            "3\n",
            "2\n",
            "3\n"
          ]
        }
      ]
    },
    {
      "cell_type": "code",
      "source": [],
      "metadata": {
        "id": "0xWcZMzISVbI"
      },
      "execution_count": null,
      "outputs": []
    }
  ]
}